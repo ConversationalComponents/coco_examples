{
 "cells": [
  {
   "cell_type": "code",
   "execution_count": 1,
   "metadata": {},
   "outputs": [],
   "source": [
    "import uuid\n",
    "import requests"
   ]
  },
  {
   "cell_type": "code",
   "execution_count": 2,
   "metadata": {},
   "outputs": [],
   "source": [
    "import dialogflow_v2beta1 as dialogflow"
   ]
  },
  {
   "cell_type": "code",
   "execution_count": 3,
   "metadata": {},
   "outputs": [],
   "source": [
    "session_client = dialogflow.SessionsClient.from_service_account_json(\"coffee-shop-nqllqr-f810158f10fd.json\")\n",
    "project_id = \"coffee-shop-nqllqr\""
   ]
  },
  {
   "cell_type": "code",
   "execution_count": 4,
   "metadata": {},
   "outputs": [],
   "source": [
    "def detect_intent(session_id, text, language_code=\"en\"):\n",
    "    \"\"\"Returns the result of detect intent with texts as inputs.\n",
    "\n",
    "    Using the same `session_id` between requests allows continuation\n",
    "    of the conversation.\"\"\"\n",
    "    \n",
    "    session = session_client.session_path(project_id, session_id)\n",
    "\n",
    "    text_input = dialogflow.types.TextInput(\n",
    "        text=text, language_code=language_code)\n",
    "\n",
    "    query_input = dialogflow.types.QueryInput(text=text_input)\n",
    "\n",
    "    response = session_client.detect_intent(\n",
    "        session=session, query_input=query_input)\n",
    "\n",
    "    return response"
   ]
  },
  {
   "cell_type": "code",
   "execution_count": 5,
   "metadata": {},
   "outputs": [],
   "source": [
    "def call_coco(component_id, session_id, **kwargs):\n",
    "    return requests.post(\n",
    "        #\"http://127.0.0.1:5000/api/exchange/\"\n",
    "        \"https://coco-235210.appspot.com/api/exchange/\"\n",
    "        f\"{component_id}/{session_id}\",\n",
    "        json=kwargs, headers={\"api-key\":\"master_key\"}).json()"
   ]
  },
  {
   "cell_type": "code",
   "execution_count": 6,
   "metadata": {},
   "outputs": [
    {
     "name": "stdout",
     "output_type": "stream",
     "text": [
      "U(Default Welcome Intent): hi\n",
      "B: Good day! I have a lot coffee and snacks. What can I get you to drink?\n",
      "\n",
      "U(Default Fallback Intent): john smith\n",
      "B: Sorry, I didn't get that.\n",
      "\n",
      "U(Default Fallback Intent): yes\n",
      "B: Sorry, can you say that again?\n",
      "\n",
      "U(order.last): I want to check my balance\n",
      "B: Will it be for delivery or pick-up?\n",
      "\n"
     ]
    }
   ],
   "source": [
    "session_id = str(uuid.uuid4())\n",
    "inputs = [\"hi\", \"john smith\", \"yes\", \"I want to check my balance\"]\n",
    "for inp in inputs:\n",
    "    response = detect_intent(session_id, inp).query_result\n",
    "    print(f\"U({response.intent.display_name}): {response.query_text}\")\n",
    "    print(f\"B: {response.fulfillment_text}\\n\")"
   ]
  },
  {
   "cell_type": "code",
   "execution_count": 7,
   "metadata": {},
   "outputs": [],
   "source": [
    "session_id = str(uuid.uuid4())"
   ]
  },
  {
   "cell_type": "code",
   "execution_count": 8,
   "metadata": {},
   "outputs": [
    {
     "data": {
      "text/plain": [
       "{'component_done': False,\n",
       " 'confidence': 0.5,\n",
       " 'idontknow': False,\n",
       " 'response': 'I would like to email you important info about your account. I promise not to send spam and you can opt out at any time.  Please type in your email below (ie john@email.com).',\n",
       " 'updated_context': {}}"
      ]
     },
     "execution_count": 8,
     "metadata": {},
     "output_type": "execute_result"
    }
   ],
   "source": [
    "call_coco(\"register_vp3\", session_id, user_input=\"chen@imperson.com\")"
   ]
  },
  {
   "cell_type": "code",
   "execution_count": 29,
   "metadata": {},
   "outputs": [],
   "source": [
    "\n",
    "def dialogflow_comp(state, inp):\n",
    "    interpretation = detect_intent(state[\"session_id\"], inp).query_result\n",
    "    if interpretation.intent.display_name == \"Default Welcome Intent\" and not \"name\" in state:\n",
    "        return [], \"namer_comp\", False\n",
    "    return [interpretation.fulfillment_text], None, False\n",
    "\n",
    "def get_drink_action(first_name=\"\"):\n",
    "    if first_name:\n",
    "        return f\"Nice to meet you {first_name}, What can I get you to drink?\"\n",
    "    return \"Hi, What can I get you to drink?\"\n",
    "\n",
    "def namer_comp(state, inp):\n",
    "    response = call_coco(\"namer_vp3\", state[\"session_id\"], user_input=inp)\n",
    "    if response[\"component_done\"]:\n",
    "        state[\"name\"] = response[\"updated_context\"]\n",
    "        first_name = response[\"updated_context\"].get(\"userfirstName\")\n",
    "        return [get_drink_action(first_name)], None, True\n",
    "    return [response[\"response\"]], None, False\n",
    "\n",
    "components_index = {\n",
    "    \"dialogflow_comp\": dialogflow_comp,\n",
    "    \"namer_comp\": namer_comp\n",
    "}  \n",
    "\n",
    "def get_response(state, inp):\n",
    "    responses, new_comp, need_to_pop = components_index[state[\"control_stack\"][-1]](state, inp)\n",
    "    if need_to_pop:\n",
    "        state[\"control_stack\"].pop()\n",
    "    if new_comp:\n",
    "        state[\"control_stack\"].append(new_comp)\n",
    "    if len(responses) == 0:\n",
    "        return get_response(state, inp)\n",
    "    \n",
    "    return state, responses\n",
    "    "
   ]
  },
  {
   "cell_type": "code",
   "execution_count": null,
   "metadata": {},
   "outputs": [
    {
     "name": "stdin",
     "output_type": "stream",
     "text": [
      " hi\n"
     ]
    },
    {
     "name": "stdout",
     "output_type": "stream",
     "text": [
      "Can you please tell me your name?\n"
     ]
    },
    {
     "name": "stdin",
     "output_type": "stream",
     "text": [
      " mor buski\n"
     ]
    },
    {
     "name": "stdout",
     "output_type": "stream",
     "text": [
      "Hello mor. Nice to meet you. Is your last name buski? \n"
     ]
    },
    {
     "name": "stdin",
     "output_type": "stream",
     "text": [
      " yes\n"
     ]
    },
    {
     "name": "stdout",
     "output_type": "stream",
     "text": [
      "Hi, What can I get you to drink?\n"
     ]
    }
   ],
   "source": [
    "session_id = str(uuid.uuid4())\n",
    "state = {\"control_stack\":[\"dialogflow_comp\"], \"session_id\":session_id}\n",
    "while(True):\n",
    "    inp = input()\n",
    "    state, responses = get_response(state, inp)\n",
    "    \n",
    "    for res in responses:\n",
    "        print(res) \n",
    "    \n",
    "    "
   ]
  },
  {
   "cell_type": "code",
   "execution_count": 12,
   "metadata": {},
   "outputs": [
    {
     "name": "stdout",
     "output_type": "stream",
     "text": [
      "{'comp': 'dialogflow', 'session_id': '33257f4e-e5fa-4f13-97fa-11e9be9bfb2c', 'name': {'component_done': 'true', 'userlastName': 'buskilla'}}\n"
     ]
    }
   ],
   "source": [
    "print (state)\n"
   ]
  },
  {
   "cell_type": "code",
   "execution_count": null,
   "metadata": {},
   "outputs": [],
   "source": []
  }
 ],
 "metadata": {
  "kernelspec": {
   "display_name": "Python 3",
   "language": "python",
   "name": "python3"
  },
  "language_info": {
   "codemirror_mode": {
    "name": "ipython",
    "version": 3
   },
   "file_extension": ".py",
   "mimetype": "text/x-python",
   "name": "python",
   "nbconvert_exporter": "python",
   "pygments_lexer": "ipython3",
   "version": "3.7.2"
  }
 },
 "nbformat": 4,
 "nbformat_minor": 2
}
