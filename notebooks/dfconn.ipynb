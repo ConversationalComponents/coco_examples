{
 "cells": [
  {
   "cell_type": "code",
   "execution_count": 49,
   "metadata": {},
   "outputs": [],
   "source": [
    "import uuid\n",
    "import requests"
   ]
  },
  {
   "cell_type": "code",
   "execution_count": 50,
   "metadata": {},
   "outputs": [],
   "source": [
    "import dialogflow_v2beta1 as dialogflow"
   ]
  },
  {
   "cell_type": "code",
   "execution_count": 51,
   "metadata": {},
   "outputs": [],
   "source": [
    "session_client = dialogflow.SessionsClient.from_service_account_json(\"banking-b287c-9bfcd2f6dec7.json\")\n",
    "project_id = \"banking-b287c\""
   ]
  },
  {
   "cell_type": "code",
   "execution_count": 52,
   "metadata": {},
   "outputs": [],
   "source": [
    "def detect_intent(session_id, text, language_code=\"en\"):\n",
    "    \"\"\"Returns the result of detect intent with texts as inputs.\n",
    "\n",
    "    Using the same `session_id` between requests allows continuation\n",
    "    of the conversation.\"\"\"\n",
    "    \n",
    "    session = session_client.session_path(project_id, session_id)\n",
    "\n",
    "    text_input = dialogflow.types.TextInput(\n",
    "        text=text, language_code=language_code)\n",
    "\n",
    "    query_input = dialogflow.types.QueryInput(text=text_input)\n",
    "\n",
    "    response = session_client.detect_intent(\n",
    "        session=session, query_input=query_input)\n",
    "\n",
    "    return response"
   ]
  },
  {
   "cell_type": "code",
   "execution_count": 80,
   "metadata": {},
   "outputs": [],
   "source": [
    "def call_coco(component_id, session_id, **kwargs):\n",
    "    return requests.post(\n",
    "        \"http://127.0.0.1:5000/api/exchange/\"\n",
    "        #\"https://coco-235210.appspot.com/api/exchange/\"\n",
    "        f\"{component_id}/{session_id}\",\n",
    "        json=kwargs, headers={\"api-key\":\"master_key\"}).json()"
   ]
  },
  {
   "cell_type": "code",
   "execution_count": 48,
   "metadata": {},
   "outputs": [
    {
     "name": "stdout",
     "output_type": "stream",
     "text": [
      "U(Default Welcome Intent): hi\n",
      "B: Can you please tell me your name?\n",
      "\n",
      "U(welcome.loop): john smith\n",
      "B: Hello John. Nice to meet you. Is your last name smith? \n",
      "\n",
      "U(welcome.loop): yes\n",
      "B: Nice to meet you, John smith. \n",
      "\n",
      "U(account.balance.check): I want to check my balance\n",
      "B: What account do you want the balance for: savings or checking?\n",
      "\n"
     ]
    }
   ],
   "source": [
    "session_id = str(uuid.uuid4())\n",
    "inputs = [\"hi\", \"john smith\", \"yes\", \"I want to check my balance\"]\n",
    "for inp in inputs:\n",
    "    response = detect_intent(session_id, inp).query_result\n",
    "    print(f\"U({response.intent.display_name}): {response.query_text}\")\n",
    "    print(f\"B: {response.fulfillment_text}\\n\")"
   ]
  },
  {
   "cell_type": "code",
   "execution_count": 81,
   "metadata": {},
   "outputs": [],
   "source": [
    "session_id = str(uuid.uuid4())"
   ]
  },
  {
   "cell_type": "code",
   "execution_count": 83,
   "metadata": {},
   "outputs": [
    {
     "data": {
      "text/plain": [
       "{'component_done': False,\n",
       " 'confidence': 0.5,\n",
       " 'idontknow': False,\n",
       " 'response': 'While I check the validity of chen@imperson.com, please choose a password. Any length, digits and case sensitive letters only.',\n",
       " 'updated_context': {}}"
      ]
     },
     "execution_count": 83,
     "metadata": {},
     "output_type": "execute_result"
    }
   ],
   "source": [
    "call_coco(\"register_vp3\", session_id, user_input=\"chen@imperson.com\")"
   ]
  },
  {
   "cell_type": "code",
   "execution_count": null,
   "metadata": {},
   "outputs": [],
   "source": []
  },
  {
   "cell_type": "code",
   "execution_count": null,
   "metadata": {},
   "outputs": [],
   "source": []
  },
  {
   "cell_type": "code",
   "execution_count": null,
   "metadata": {},
   "outputs": [],
   "source": []
  }
 ],
 "metadata": {
  "kernelspec": {
   "display_name": "Python 3",
   "language": "python",
   "name": "python3"
  },
  "language_info": {
   "codemirror_mode": {
    "name": "ipython",
    "version": 3
   },
   "file_extension": ".py",
   "mimetype": "text/x-python",
   "name": "python",
   "nbconvert_exporter": "python",
   "pygments_lexer": "ipython3",
   "version": "3.7.2"
  }
 },
 "nbformat": 4,
 "nbformat_minor": 2
}
